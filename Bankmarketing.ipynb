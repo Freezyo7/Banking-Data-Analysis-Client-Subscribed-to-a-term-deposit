{
 "cells": [
  {
   "cell_type": "markdown",
   "id": "c3c9969e",
   "metadata": {},
   "source": [
    "Inspecting Data"
   ]
  },
  {
   "cell_type": "code",
   "execution_count": null,
   "id": "fb3b3b85",
   "metadata": {},
   "outputs": [],
   "source": [
    "import pandas as pd \n",
    "import matplotlib.pyplot as plt\n",
    "import seaborn as sns\n",
    "\n",
    "# Load the dataset\n",
    "banking_df = pd.read_csv('bankmarketing.csv')\n",
    "\n",
    "# Display the first few rows\n",
    "banking_df.head()"
   ]
  },
  {
   "cell_type": "code",
   "execution_count": null,
   "id": "111dba56",
   "metadata": {},
   "outputs": [],
   "source": [
    "import pandas as pd \n",
    "banking_df=pd.read_csv(\"bankmarketing.csv\")\n",
    "\n",
    "print(banking_df.info())\n",
    "print(banking_df.isnull().sum())\n"
   ]
  },
  {
   "cell_type": "code",
   "execution_count": null,
   "id": "c29a51e4",
   "metadata": {},
   "outputs": [],
   "source": [
    "# Summary statistic\n",
    "print(banking_df.describe())"
   ]
  },
  {
   "cell_type": "markdown",
   "id": "8dc4f554",
   "metadata": {},
   "source": [
    "Unique Values for Categorical Columns"
   ]
  },
  {
   "cell_type": "code",
   "execution_count": null,
   "id": "e0e2cf14",
   "metadata": {},
   "outputs": [],
   "source": [
    "categorical_cols=banking_df.select_dtypes(include=['object','category']).columns\n",
    "\n",
    "for col in categorical_cols:\n",
    "    print(f\"unique value in {col}:\")\n",
    "    print(banking_df[col].unique())\n",
    "    print(\"\\n\")"
   ]
  },
  {
   "cell_type": "markdown",
   "id": "bff1dc22",
   "metadata": {},
   "source": [
    "Visualize Numerical Data Distributions"
   ]
  },
  {
   "cell_type": "code",
   "execution_count": null,
   "id": "51086c2b",
   "metadata": {},
   "outputs": [],
   "source": [
    "banking_df.hist(figsize=(12,8), bins=20)\n",
    "plt.show()\n",
    "\n",
    "sns.countplot(x='y', data=banking_df, palette='viridis')\n",
    "plt.title(\"Distribution of Target Variable 'y'\")\n",
    "plt.show() "
   ]
  },
  {
   "cell_type": "markdown",
   "id": "c83289d6",
   "metadata": {},
   "source": [
    "Analyze Duration of Calls (Key Predictor)\n"
   ]
  },
  {
   "cell_type": "code",
   "execution_count": null,
   "id": "d2260ea6",
   "metadata": {},
   "outputs": [],
   "source": [
    "sns.boxplot(x='y', y='duration', data=banking_df)\n",
    "plt.title(\"Call Duration vs. Subscription ('y')\")\n",
    "plt.show()"
   ]
  },
  {
   "cell_type": "markdown",
   "id": "b356b34a",
   "metadata": {},
   "source": [
    "Check Outliers in Numerical Features\n"
   ]
  },
  {
   "cell_type": "code",
   "execution_count": null,
   "id": "54ad093a",
   "metadata": {},
   "outputs": [],
   "source": [
    "plt.figure(figsize=(12, 8))\n",
    "sns.boxplot(data=banking_df[['age','duration', 'campaign', 'pdays', 'previous','previous','poutcome','emp.var.rate','cons.price.idx','cons.conf.idx', 'euribor3m','nr.employed']])\n",
    "plt.xticks(rotation=45)\n",
    "plt.title(\"Boxplots for Outlier Detection\")\n",
    "plt.show()"
   ]
  },
  {
   "cell_type": "markdown",
   "id": "7843347b",
   "metadata": {},
   "source": [
    "Check Class Imbalance"
   ]
  },
  {
   "cell_type": "code",
   "execution_count": null,
   "id": "35ca8aa5",
   "metadata": {},
   "outputs": [],
   "source": [
    "class_distribution = banking_df['y'].value_counts(normalize=True) * 100\n",
    "print(class_distribution)"
   ]
  },
  {
   "cell_type": "markdown",
   "id": "432a79ab",
   "metadata": {},
   "source": [
    "Analyze Trends Over Time"
   ]
  },
  {
   "cell_type": "code",
   "execution_count": null,
   "id": "3353914c",
   "metadata": {},
   "outputs": [],
   "source": [
    "sns.lineplot(x='month', y='duration', data=banking_df, estimator='mean', errorbar=None)\n",
    "plt.title(\"Average Call Duration per Month\")\n",
    "plt.show()"
   ]
  }
 ],
 "metadata": {
  "kernelspec": {
   "display_name": "Python 3",
   "language": "python",
   "name": "python3"
  },
  "language_info": {
   "codemirror_mode": {
    "name": "ipython",
    "version": 3
   },
   "file_extension": ".py",
   "mimetype": "text/x-python",
   "name": "python",
   "nbconvert_exporter": "python",
   "pygments_lexer": "ipython3",
   "version": "3.13.2"
  }
 },
 "nbformat": 4,
 "nbformat_minor": 5
}
